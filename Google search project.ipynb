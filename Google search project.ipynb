{
 "cells": [
  {
   "cell_type": "code",
   "execution_count": 4,
   "id": "a64c19f1-21dc-4fb7-8177-81d02147d198",
   "metadata": {},
   "outputs": [],
   "source": [
    "import pandas as pd \n",
    "from pytrends.request import TrendReq \n",
    "import matplotlib.pyplot as plt \n",
    "Trending_topics = TrendReq(hl='en-US', tz=360)"
   ]
  },
  {
   "cell_type": "code",
   "execution_count": 5,
   "id": "ead2f0a3-4ed9-46a9-8a52-2717a8a6909f",
   "metadata": {},
   "outputs": [],
   "source": [
    "kw_list=[\"Cloud Computing\", \"Machine Learning\", \"Data Analytics\", \"Data Science\"] \n",
    "Trending_topics.build_payload(kw_list,cat=0, timeframe='today 12-m')"
   ]
  },
  {
   "cell_type": "markdown",
   "id": "c42803dd-0e6a-4419-8db4-0ce4370a5600",
   "metadata": {},
   "source": [
    "The interest_over_time() method, returns the historical, indexed data for when the specified keyword was most searched according to the timeframe mentioned in the build payload method."
   ]
  },
  {
   "cell_type": "code",
   "execution_count": 6,
   "id": "4ec28c35-c4e4-4e32-b26c-f4a0ab64fd4c",
   "metadata": {},
   "outputs": [
    {
     "name": "stdout",
     "output_type": "stream",
     "text": [
      "            Data Analytics  isPartial\n",
      "date                                 \n",
      "2024-02-25             100      False\n",
      "2024-02-18              99      False\n",
      "2024-03-17              99      False\n",
      "2024-01-21              97      False\n",
      "2024-02-11              96      False\n",
      "2024-03-10              95      False\n",
      "2024-01-28              94      False\n",
      "2024-03-03              93      False\n",
      "2023-08-20              93      False\n",
      "2024-04-21              93      False\n"
     ]
    },
    {
     "name": "stderr",
     "output_type": "stream",
     "text": [
      "C:\\Users\\Asmita\\AppData\\Local\\Programs\\Python\\Python310\\lib\\site-packages\\pytrends\\request.py:260: FutureWarning: Downcasting object dtype arrays on .fillna, .ffill, .bfill is deprecated and will change in a future version. Call result.infer_objects(copy=False) instead. To opt-in to the future behavior, set `pd.set_option('future.no_silent_downcasting', True)`\n",
      "  df = df.fillna(False)\n"
     ]
    }
   ],
   "source": [
    "Trending_topics.build_payload(kw_list=[\"Data Analytics\"], \n",
    "                              cat=0, timeframe='today 12-m') \n",
    "data = Trending_topics.interest_over_time() \n",
    "data = data.sort_values(by=\"Data Analytics\", ascending = False) \n",
    "data = data.head(10) \n",
    "print(data)"
   ]
  },
  {
   "cell_type": "markdown",
   "id": "abb2aade-23b4-459a-a3e2-29c687740afc",
   "metadata": {},
   "source": [
    "get_historical_interest() method returns the historical, indexed, hourly data for when the specified keyword was most searched"
   ]
  },
  {
   "cell_type": "code",
   "execution_count": 7,
   "id": "2fa52263-7cc1-4145-b937-a3cf29c6c3d0",
   "metadata": {},
   "outputs": [
    {
     "ename": "NotImplementedError",
     "evalue": "This method has been removed for incorrectness. It will be removed completely in v5.\nIf you'd like similar functionality, please try implementing it yourself and consider submitting a pull request to add it to pytrends.\n          \nThere is discussion at:\nhttps://github.com/GeneralMills/pytrends/pull/542",
     "output_type": "error",
     "traceback": [
      "\u001b[1;31m---------------------------------------------------------------------------\u001b[0m",
      "\u001b[1;31mNotImplementedError\u001b[0m                       Traceback (most recent call last)",
      "Cell \u001b[1;32mIn[7], line 3\u001b[0m\n\u001b[0;32m      1\u001b[0m kw_list\u001b[38;5;241m=\u001b[39m[\u001b[38;5;124m\"\u001b[39m\u001b[38;5;124mCloud Computing\u001b[39m\u001b[38;5;124m\"\u001b[39m, \u001b[38;5;124m\"\u001b[39m\u001b[38;5;124mMachine Learning\u001b[39m\u001b[38;5;124m\"\u001b[39m, \u001b[38;5;124m\"\u001b[39m\u001b[38;5;124mData Analytics\u001b[39m\u001b[38;5;124m\"\u001b[39m, \u001b[38;5;124m\"\u001b[39m\u001b[38;5;124mData Science\u001b[39m\u001b[38;5;124m\"\u001b[39m] \n\u001b[0;32m      2\u001b[0m Trending_topics\u001b[38;5;241m.\u001b[39mbuild_payload(kw_list) \n\u001b[1;32m----> 3\u001b[0m data \u001b[38;5;241m=\u001b[39m \u001b[43mTrending_topics\u001b[49m\u001b[38;5;241;43m.\u001b[39;49m\u001b[43mget_historical_interest\u001b[49m\u001b[43m(\u001b[49m\u001b[43m \u001b[49m\u001b[43mkw_list\u001b[49m\u001b[43m,\u001b[49m\u001b[43m \u001b[49m\u001b[43myear_start\u001b[49m\u001b[38;5;241;43m=\u001b[39;49m\u001b[38;5;241;43m2019\u001b[39;49m\u001b[43m,\u001b[49m\u001b[43m \u001b[49m\u001b[43mmonth_start\u001b[49m\u001b[38;5;241;43m=\u001b[39;49m\u001b[38;5;241;43m1\u001b[39;49m\u001b[43m,\u001b[49m\u001b[43m \u001b[49m\u001b[43mday_start\u001b[49m\u001b[38;5;241;43m=\u001b[39;49m\u001b[38;5;241;43m1\u001b[39;49m\u001b[43m,\u001b[49m\u001b[43m \u001b[49m\n\u001b[0;32m      4\u001b[0m \u001b[43m  \u001b[49m\u001b[43mhour_start\u001b[49m\u001b[38;5;241;43m=\u001b[39;49m\u001b[38;5;241;43m0\u001b[39;49m\u001b[43m,\u001b[49m\u001b[43m \u001b[49m\u001b[43myear_end\u001b[49m\u001b[38;5;241;43m=\u001b[39;49m\u001b[38;5;241;43m2019\u001b[39;49m\u001b[43m,\u001b[49m\u001b[43m \u001b[49m\u001b[43mmonth_end\u001b[49m\u001b[38;5;241;43m=\u001b[39;49m\u001b[38;5;241;43m2\u001b[39;49m\u001b[43m,\u001b[49m\u001b[43m \u001b[49m\u001b[43mday_end\u001b[49m\u001b[38;5;241;43m=\u001b[39;49m\u001b[38;5;241;43m1\u001b[39;49m\u001b[43m,\u001b[49m\u001b[43m \u001b[49m\n\u001b[0;32m      5\u001b[0m \u001b[43m  \u001b[49m\u001b[43mhour_end\u001b[49m\u001b[38;5;241;43m=\u001b[39;49m\u001b[38;5;241;43m0\u001b[39;49m\u001b[43m,\u001b[49m\u001b[43m \u001b[49m\u001b[43mcat\u001b[49m\u001b[38;5;241;43m=\u001b[39;49m\u001b[38;5;241;43m0\u001b[39;49m\u001b[43m,\u001b[49m\u001b[43m \u001b[49m\u001b[43mgeo\u001b[49m\u001b[38;5;241;43m=\u001b[39;49m\u001b[38;5;124;43m'\u001b[39;49m\u001b[38;5;124;43m'\u001b[39;49m\u001b[43m,\u001b[49m\u001b[43m \u001b[49m\u001b[43mgprop\u001b[49m\u001b[38;5;241;43m=\u001b[39;49m\u001b[38;5;124;43m'\u001b[39;49m\u001b[38;5;124;43m'\u001b[39;49m\u001b[43m,\u001b[49m\u001b[43m \u001b[49m\u001b[43msleep\u001b[49m\u001b[38;5;241;43m=\u001b[39;49m\u001b[38;5;241;43m0\u001b[39;49m\u001b[43m)\u001b[49m \n\u001b[0;32m      6\u001b[0m data \u001b[38;5;241m=\u001b[39m data\u001b[38;5;241m.\u001b[39msort_values(by\u001b[38;5;241m=\u001b[39m\u001b[38;5;124m\"\u001b[39m\u001b[38;5;124mCloud Computing\u001b[39m\u001b[38;5;124m\"\u001b[39m, ascending \u001b[38;5;241m=\u001b[39m \u001b[38;5;28;01mFalse\u001b[39;00m) \n\u001b[0;32m      7\u001b[0m data \u001b[38;5;241m=\u001b[39m data\u001b[38;5;241m.\u001b[39mhead(\u001b[38;5;241m10\u001b[39m) \n",
      "File \u001b[1;32m~\\AppData\\Local\\Programs\\Python\\Python310\\lib\\site-packages\\pytrends\\request.py:588\u001b[0m, in \u001b[0;36mTrendReq.get_historical_interest\u001b[1;34m(self, *args, **kwargs)\u001b[0m\n\u001b[0;32m    587\u001b[0m     \u001b[38;5;28;01mdef\u001b[39;00m \u001b[38;5;21mget_historical_interest\u001b[39m(\u001b[38;5;28mself\u001b[39m, \u001b[38;5;241m*\u001b[39margs, \u001b[38;5;241m*\u001b[39m\u001b[38;5;241m*\u001b[39mkwargs):\n\u001b[1;32m--> 588\u001b[0m         \u001b[38;5;28;01mraise\u001b[39;00m \u001b[38;5;167;01mNotImplementedError\u001b[39;00m(\n\u001b[0;32m    589\u001b[0m \u001b[38;5;250m            \u001b[39m\u001b[38;5;124;03m\"\"\"This method has been removed for incorrectness. It will be removed completely in v5.\u001b[39;00m\n\u001b[0;32m    590\u001b[0m \u001b[38;5;124;03mIf you'd like similar functionality, please try implementing it yourself and consider submitting a pull request to add it to pytrends.\u001b[39;00m\n\u001b[0;32m    591\u001b[0m \u001b[38;5;124;03m          \u001b[39;00m\n\u001b[0;32m    592\u001b[0m \u001b[38;5;124;03mThere is discussion at:\u001b[39;00m\n\u001b[0;32m    593\u001b[0m \u001b[38;5;124;03mhttps://github.com/GeneralMills/pytrends/pull/542\"\"\"\u001b[39;00m\n\u001b[0;32m    594\u001b[0m         )\n",
      "\u001b[1;31mNotImplementedError\u001b[0m: This method has been removed for incorrectness. It will be removed completely in v5.\nIf you'd like similar functionality, please try implementing it yourself and consider submitting a pull request to add it to pytrends.\n          \nThere is discussion at:\nhttps://github.com/GeneralMills/pytrends/pull/542"
     ]
    }
   ],
   "source": [
    "kw_list=[\"Cloud Computing\", \"Machine Learning\", \"Data Analytics\", \"Data Science\"] \n",
    "Trending_topics.build_payload(kw_list) \n",
    "data = Trending_topics.get_historical_interest( kw_list, year_start=2019, month_start=1, day_start=1, \n",
    "  hour_start=0, year_end=2019, month_end=2, day_end=1, \n",
    "  hour_end=0, cat=0, geo='', gprop='', sleep=0) \n",
    "data = data.sort_values(by=\"Cloud Computing\", ascending = False) \n",
    "data = data.head(10) \n",
    "print(data)\n",
    "\n",
    "data = data.sort_values(by=\"Machine Learning\", ascending = False) \n",
    "data = data.head(10) \n",
    "print(data)"
   ]
  },
  {
   "cell_type": "code",
   "execution_count": 7,
   "id": "00a407ec-5ad5-4518-8141-217f903c624b",
   "metadata": {},
   "outputs": [
    {
     "ename": "NotImplementedError",
     "evalue": "This method has been removed for incorrectness. It will be removed completely in v5.\nIf you'd like similar functionality, please try implementing it yourself and consider submitting a pull request to add it to pytrends.\n          \nThere is discussion at:\nhttps://github.com/GeneralMills/pytrends/pull/542",
     "output_type": "error",
     "traceback": [
      "\u001b[1;31m---------------------------------------------------------------------------\u001b[0m",
      "\u001b[1;31mNotImplementedError\u001b[0m                       Traceback (most recent call last)",
      "Cell \u001b[1;32mIn[7], line 3\u001b[0m\n\u001b[0;32m      1\u001b[0m kw_list \u001b[38;5;241m=\u001b[39m [\u001b[38;5;124m\"\u001b[39m\u001b[38;5;124mCloud Computing\u001b[39m\u001b[38;5;124m\"\u001b[39m] \n\u001b[0;32m      2\u001b[0m Trending_topics\u001b[38;5;241m.\u001b[39mbuild_payload(kw_list) \n\u001b[1;32m----> 3\u001b[0m data \u001b[38;5;241m=\u001b[39m \u001b[43mTrending_topics\u001b[49m\u001b[38;5;241;43m.\u001b[39;49m\u001b[43mget_historical_interest\u001b[49m\u001b[43m(\u001b[49m\u001b[43m \u001b[49m\u001b[43mkw_list\u001b[49m\u001b[43m,\u001b[49m\u001b[43m \u001b[49m\u001b[43myear_start\u001b[49m\u001b[38;5;241;43m=\u001b[39;49m\u001b[38;5;241;43m2019\u001b[39;49m\u001b[43m,\u001b[49m\u001b[43m \u001b[49m\u001b[43mmonth_start\u001b[49m\u001b[38;5;241;43m=\u001b[39;49m\u001b[38;5;241;43m1\u001b[39;49m\u001b[43m,\u001b[49m\u001b[43m \u001b[49m\u001b[43mday_start\u001b[49m\u001b[38;5;241;43m=\u001b[39;49m\u001b[38;5;241;43m1\u001b[39;49m\u001b[43m,\u001b[49m\u001b[43m \u001b[49m\n\u001b[0;32m      4\u001b[0m \u001b[43m  \u001b[49m\u001b[43mhour_start\u001b[49m\u001b[38;5;241;43m=\u001b[39;49m\u001b[38;5;241;43m0\u001b[39;49m\u001b[43m,\u001b[49m\u001b[43m \u001b[49m\u001b[43myear_end\u001b[49m\u001b[38;5;241;43m=\u001b[39;49m\u001b[38;5;241;43m2019\u001b[39;49m\u001b[43m,\u001b[49m\u001b[43m \u001b[49m\u001b[43mmonth_end\u001b[49m\u001b[38;5;241;43m=\u001b[39;49m\u001b[38;5;241;43m2\u001b[39;49m\u001b[43m,\u001b[49m\u001b[43m \u001b[49m\u001b[43mday_end\u001b[49m\u001b[38;5;241;43m=\u001b[39;49m\u001b[38;5;241;43m1\u001b[39;49m\u001b[43m,\u001b[49m\u001b[43m \u001b[49m\n\u001b[0;32m      5\u001b[0m \u001b[43m  \u001b[49m\u001b[43mhour_end\u001b[49m\u001b[38;5;241;43m=\u001b[39;49m\u001b[38;5;241;43m0\u001b[39;49m\u001b[43m,\u001b[49m\u001b[43m \u001b[49m\u001b[43mcat\u001b[49m\u001b[38;5;241;43m=\u001b[39;49m\u001b[38;5;241;43m0\u001b[39;49m\u001b[43m,\u001b[49m\u001b[43m \u001b[49m\u001b[43mgeo\u001b[49m\u001b[38;5;241;43m=\u001b[39;49m\u001b[38;5;124;43m'\u001b[39;49m\u001b[38;5;124;43m'\u001b[39;49m\u001b[43m,\u001b[49m\u001b[43m \u001b[49m\u001b[43mgprop\u001b[49m\u001b[38;5;241;43m=\u001b[39;49m\u001b[38;5;124;43m'\u001b[39;49m\u001b[38;5;124;43m'\u001b[39;49m\u001b[43m,\u001b[49m\u001b[43m \u001b[49m\u001b[43msleep\u001b[49m\u001b[38;5;241;43m=\u001b[39;49m\u001b[38;5;241;43m0\u001b[39;49m\u001b[43m)\u001b[49m \n\u001b[0;32m      6\u001b[0m data \u001b[38;5;241m=\u001b[39m data\u001b[38;5;241m.\u001b[39msort_values(by\u001b[38;5;241m=\u001b[39m\u001b[38;5;124m\"\u001b[39m\u001b[38;5;124mCloud Computing\u001b[39m\u001b[38;5;124m\"\u001b[39m, ascending \u001b[38;5;241m=\u001b[39m \u001b[38;5;28;01mFalse\u001b[39;00m) \n\u001b[0;32m      7\u001b[0m data \u001b[38;5;241m=\u001b[39m data\u001b[38;5;241m.\u001b[39mhead(\u001b[38;5;241m10\u001b[39m) \n",
      "File \u001b[1;32m~\\AppData\\Local\\Programs\\Python\\Python310\\lib\\site-packages\\pytrends\\request.py:588\u001b[0m, in \u001b[0;36mTrendReq.get_historical_interest\u001b[1;34m(self, *args, **kwargs)\u001b[0m\n\u001b[0;32m    587\u001b[0m     \u001b[38;5;28;01mdef\u001b[39;00m \u001b[38;5;21mget_historical_interest\u001b[39m(\u001b[38;5;28mself\u001b[39m, \u001b[38;5;241m*\u001b[39margs, \u001b[38;5;241m*\u001b[39m\u001b[38;5;241m*\u001b[39mkwargs):\n\u001b[1;32m--> 588\u001b[0m         \u001b[38;5;28;01mraise\u001b[39;00m \u001b[38;5;167;01mNotImplementedError\u001b[39;00m(\n\u001b[0;32m    589\u001b[0m \u001b[38;5;250m            \u001b[39m\u001b[38;5;124;03m\"\"\"This method has been removed for incorrectness. It will be removed completely in v5.\u001b[39;00m\n\u001b[0;32m    590\u001b[0m \u001b[38;5;124;03mIf you'd like similar functionality, please try implementing it yourself and consider submitting a pull request to add it to pytrends.\u001b[39;00m\n\u001b[0;32m    591\u001b[0m \u001b[38;5;124;03m          \u001b[39;00m\n\u001b[0;32m    592\u001b[0m \u001b[38;5;124;03mThere is discussion at:\u001b[39;00m\n\u001b[0;32m    593\u001b[0m \u001b[38;5;124;03mhttps://github.com/GeneralMills/pytrends/pull/542\"\"\"\u001b[39;00m\n\u001b[0;32m    594\u001b[0m         )\n",
      "\u001b[1;31mNotImplementedError\u001b[0m: This method has been removed for incorrectness. It will be removed completely in v5.\nIf you'd like similar functionality, please try implementing it yourself and consider submitting a pull request to add it to pytrends.\n          \nThere is discussion at:\nhttps://github.com/GeneralMills/pytrends/pull/542"
     ]
    }
   ],
   "source": [
    "kw_list = [\"Cloud Computing\"] \n",
    "Trending_topics.build_payload(kw_list) \n",
    "data = Trending_topics.get_historical_interest( kw_list, year_start=2019, month_start=1, day_start=1, \n",
    "  hour_start=0, year_end=2019, month_end=2, day_end=1, \n",
    "  hour_end=0, cat=0, geo='', gprop='', sleep=0) \n",
    "data = data.sort_values(by=\"Cloud Computing\", ascending = False) \n",
    "data = data.head(10) \n",
    "print(data)"
   ]
  },
  {
   "cell_type": "code",
   "execution_count": 16,
   "id": "55125c07-cc8f-4c60-a1be-448cfe5fb54c",
   "metadata": {},
   "outputs": [
    {
     "name": "stdout",
     "output_type": "stream",
     "text": [
      "           Cloud Computing  Machine Learning  Data Analysis  Data Science\n",
      "geoName                                                                  \n",
      "Cameroon                25                24             24            27\n",
      "Nepal                   22                28             21            29\n",
      "Indonesia               19                35             17            29\n",
      "Ecuador                 18                51             11            20\n",
      "Sri Lanka               17                33             20            30\n",
      "India                   17                36             14            33\n",
      "Thailand                17                35             18            30\n",
      "Uganda                  16                17             48            19\n",
      "Ethiopia                16                27             38            19\n",
      "Iraq                    16                45             20            19\n",
      "           Cloud Computing  Machine Learning  Data Analysis  Data Science\n",
      "geoName                                                                  \n",
      "Ecuador                 18                51             11            20\n",
      "Iraq                    16                45             20            19\n",
      "India                   17                36             14            33\n",
      "Indonesia               19                35             17            29\n",
      "Thailand                17                35             18            30\n"
     ]
    }
   ],
   "source": [
    "data = Trending_topics.interest_by_region() \n",
    "data = data.sort_values(by=\"Cloud Computing\",  \n",
    "                        ascending = False) \n",
    "data = data.head(10) \n",
    "print(data)\n",
    "\n",
    "data = data.sort_values(by=\"Machine Learning\",  \n",
    "                        ascending = False) \n",
    "data = data.head(5) \n",
    "print(data)"
   ]
  },
  {
   "cell_type": "code",
   "execution_count": 9,
   "id": "5ba837cc-83a7-44e4-a41a-74fa4871cf28",
   "metadata": {},
   "outputs": [
    {
     "data": {
      "image/png": "[encoded data removed]",
      "text/plain": [
       "<Figure size 1000x500 with 1 Axes>"
      ]
     },
     "metadata": {},
     "output_type": "display_data"
    }
   ],
   "source": [
    "data.reset_index().plot(x='geoName', y='Cloud Computing', \n",
    "                        figsize=(10,5), kind=\"bar\") \n",
    "plt.style.use('fivethirtyeight') \n",
    "plt.show()"
   ]
  },
  {
   "cell_type": "code",
   "execution_count": 10,
   "id": "203beaa3-a7cb-4211-add3-d5b85217aa76",
   "metadata": {},
   "outputs": [
    {
     "data": {
      "image/png": "[encoded data removed]",
      "text/plain": [
       "<Figure size 1000x500 with 1 Axes>"
      ]
     },
     "metadata": {},
     "output_type": "display_data"
    }
   ],
   "source": [
    "data.reset_index().plot(x='geoName', y='Data Analytics', \n",
    "                        figsize=(10,5), kind=\"bar\") \n",
    "plt.style.use('fivethirtyeight') \n",
    "plt.show()"
   ]
  },
  {
   "cell_type": "code",
   "execution_count": 11,
   "id": "c0d346dc-4be3-44b9-8f2e-ac76b7c9ccfe",
   "metadata": {},
   "outputs": [
    {
     "data": {
      "text/html": [
       "<div>\n",
       "<style scoped>\n",
       "    .dataframe tbody tr th:only-of-type {\n",
       "        vertical-align: middle;\n",
       "    }\n",
       "\n",
       "    .dataframe tbody tr th {\n",
       "        vertical-align: top;\n",
       "    }\n",
       "\n",
       "    .dataframe thead th {\n",
       "        text-align: right;\n",
       "    }\n",
       "</style>\n",
       "<table border=\"1\" class=\"dataframe\">\n",
       "  <thead>\n",
       "    <tr style=\"text-align: right;\">\n",
       "      <th></th>\n",
       "      <th>title</th>\n",
       "      <th>exploreQuery</th>\n",
       "    </tr>\n",
       "  </thead>\n",
       "  <tbody>\n",
       "    <tr>\n",
       "      <th>0</th>\n",
       "      <td>Wordle</td>\n",
       "      <td></td>\n",
       "    </tr>\n",
       "    <tr>\n",
       "      <th>1</th>\n",
       "      <td>India vs England</td>\n",
       "      <td></td>\n",
       "    </tr>\n",
       "    <tr>\n",
       "      <th>2</th>\n",
       "      <td>Ukraine</td>\n",
       "      <td></td>\n",
       "    </tr>\n",
       "    <tr>\n",
       "      <th>3</th>\n",
       "      <td>Queen Elizabeth</td>\n",
       "      <td></td>\n",
       "    </tr>\n",
       "    <tr>\n",
       "      <th>4</th>\n",
       "      <td>Ind vs SA</td>\n",
       "      <td></td>\n",
       "    </tr>\n",
       "    <tr>\n",
       "      <th>5</th>\n",
       "      <td>World Cup</td>\n",
       "      <td></td>\n",
       "    </tr>\n",
       "    <tr>\n",
       "      <th>6</th>\n",
       "      <td>India vs West Indies</td>\n",
       "      <td></td>\n",
       "    </tr>\n",
       "    <tr>\n",
       "      <th>7</th>\n",
       "      <td>iPhone 14</td>\n",
       "      <td></td>\n",
       "    </tr>\n",
       "    <tr>\n",
       "      <th>8</th>\n",
       "      <td>Jeffrey Dahmer</td>\n",
       "      <td></td>\n",
       "    </tr>\n",
       "    <tr>\n",
       "      <th>9</th>\n",
       "      <td>Indian Premier League</td>\n",
       "      <td></td>\n",
       "    </tr>\n",
       "  </tbody>\n",
       "</table>\n",
       "</div>"
      ],
      "text/plain": [
       "                   title exploreQuery\n",
       "0                 Wordle             \n",
       "1       India vs England             \n",
       "2                Ukraine             \n",
       "3        Queen Elizabeth             \n",
       "4              Ind vs SA             \n",
       "5              World Cup             \n",
       "6   India vs West Indies             \n",
       "7              iPhone 14             \n",
       "8         Jeffrey Dahmer             \n",
       "9  Indian Premier League             "
      ]
     },
     "execution_count": 11,
     "metadata": {},
     "output_type": "execute_result"
    }
   ],
   "source": [
    "df = Trending_topics.top_charts(2022, hl='en-US',  \n",
    "                                tz=300, geo='GLOBAL') \n",
    "df.head(10) "
   ]
  },
  {
   "cell_type": "code",
   "execution_count": 13,
   "id": "3fb3838e-f075-401b-a077-71e293c32298",
   "metadata": {},
   "outputs": [
    {
     "data": {
      "text/plain": [
       "dict_values([{'top':                                 query  value\n",
       "0                                what    100\n",
       "1                       what is cloud     81\n",
       "2             what is cloud computing     80\n",
       "3                               which     40\n",
       "4         what is the cloud computing     36\n",
       "5            cloud computing services     32\n",
       "6                      cloud services     31\n",
       "7            cloud computing security     28\n",
       "8              google cloud computing     24\n",
       "9                        google cloud     23\n",
       "10                aws cloud computing     23\n",
       "11                                aws     22\n",
       "12            cloud computing meaning     21\n",
       "13           cloud computing software     21\n",
       "14        security in cloud computing     18\n",
       "15         cloud computing technology     17\n",
       "16              cloud computing types     17\n",
       "17                     virtualization     17\n",
       "18                     types of cloud     15\n",
       "19       cloud computing architecture     15\n",
       "20                      cloud storage     14\n",
       "21           types of cloud computing     14\n",
       "22  virtualization in cloud computing     13\n",
       "23                               saas     13\n",
       "24                cloud computing pdf     11, 'rising':                                                 query  value\n",
       "0   what would be an ideal scenario for using edge...  10500\n",
       "1   what describes the relationship between edge c...   9500\n",
       "2   an international fast-food chain is looking fo...   6250\n",
       "3   how has the covid-19 pandemic affected busines...   6050\n",
       "4                                 cloud computing etf    500\n",
       "5                                      edge computing    350\n",
       "6                                               which    300\n",
       "7                     what is paas in cloud computing    200\n",
       "8                             iaas in cloud computing    200\n",
       "9                             paas in cloud computing    200\n",
       "10                                              udemy    200\n",
       "11                                     cyber security    190\n",
       "12                        what is the cloud computing    170\n",
       "13                                aws cloud computing    120\n",
       "14                                                aws    120\n",
       "15                                     types of cloud     90\n",
       "16                            cloud computing meaning     90\n",
       "17                  virtualization in cloud computing     90\n",
       "18                              cloud computing types     80\n",
       "19                           types of cloud computing     70\n",
       "20                            cloud computing courses     60\n",
       "21                                               saas     50\n",
       "22                                     virtualization     50\n",
       "23                                               what     50\n",
       "24                        security in cloud computing     40}, {'top':                                            query  value\n",
       "0                                         python    100\n",
       "1                       what is machine learning     98\n",
       "2                        python machine learning     94\n",
       "3                            ai machine learning     79\n",
       "4                                             ai     77\n",
       "5                         machine learning model     63\n",
       "6                                  deep learning     56\n",
       "7                        google machine learning     46\n",
       "8                                     regression     41\n",
       "9                                   data science     39\n",
       "10                       artificial intelligence     38\n",
       "11                   machine learning algorithms     36\n",
       "12                          machine learning pdf     35\n",
       "13                       machine learning course     34\n",
       "14                                            ml     32\n",
       "15                       machine learning models     32\n",
       "16                     machine learning engineer     31\n",
       "17                       ai and machine learning     31\n",
       "18                      machine learning meaning     27\n",
       "19  artificial intelligence and machine learning     24\n",
       "20                regression in machine learning     24\n",
       "21                                        github     24\n",
       "22                         machine learning jobs     22\n",
       "23                     machine learning projects     19\n",
       "24                   supervised machine learning     19, 'rising':                                            query  value\n",
       "0                           llm machine learning   8400\n",
       "1                                   google colab   1250\n",
       "2                       machine learning roadmap    450\n",
       "3              decision tree in machine learning    350\n",
       "4                      machine learning for kids    300\n",
       "5             aws machine learning certification    300\n",
       "6                               confusion matrix    300\n",
       "7                        pca in machine learning    250\n",
       "8                 clustering in machine learning    250\n",
       "9          linear regression in machine learning    250\n",
       "10                         what is deep learning    250\n",
       "11                regression in machine learning    200\n",
       "12              machine learning engineer salary    200\n",
       "13                     types of machine learning    180\n",
       "14                                           knn    180\n",
       "15            classification in machine learning    150\n",
       "16                       ai and machine learning    150\n",
       "17  artificial intelligence and machine learning    140\n",
       "18                     machine learning engineer    140\n",
       "19                        machine learning model    130\n",
       "20                      machine learning meaning    130\n",
       "21                       machine learning models    120\n",
       "22                      what is machine learning    110\n",
       "23                   supervised machine learning    110\n",
       "24                           supervised learning    100}, {'top':                               query  value\n",
       "0         data analysis in research    100\n",
       "1               excel data analysis    100\n",
       "2               data analysis tools     45\n",
       "3                      data analyst     45\n",
       "4              data analysis skills     17\n",
       "5  exploratory data analysis python      4, 'rising':                               query  value\n",
       "0  exploratory data analysis python    250\n",
       "1              data analysis skills    100\n",
       "2                      data analyst     90\n",
       "3         data analysis in research     80}, {'top':                          query  value\n",
       "0          data science course    100\n",
       "1         what is data science     93\n",
       "2                 what is data     90\n",
       "3            data science jobs     68\n",
       "4             computer science     66\n",
       "5          python data science     66\n",
       "6                       python     66\n",
       "7               data analytics     57\n",
       "8         data science masters     46\n",
       "9               data scientist     44\n",
       "10         data science salary     44\n",
       "11        data science courses     43\n",
       "12            machine learning     43\n",
       "13         data science master     40\n",
       "14            data science job     33\n",
       "15     masters in data science     29\n",
       "16                data analyst     28\n",
       "17         data science degree     28\n",
       "18                  statistics     27\n",
       "19     python for data science     27\n",
       "20               data analysis     26\n",
       "21        data science meaning     25\n",
       "22            msc data science     22\n",
       "23  data science and analytics     22\n",
       "24    data science certificate     21, 'rising':                                        query  value\n",
       "0                                 iit madras   3650\n",
       "1                    iit madras data science   3550\n",
       "2                           bsc data science    750\n",
       "3                               google colab    700\n",
       "4                       data science roadmap    550\n",
       "5   data science and artificial intelligence    500\n",
       "6                    artificial intelligence    200\n",
       "7                       towards data science    170\n",
       "8                           data science это    170\n",
       "9                      data science syllabus    120\n",
       "10                          msc data science     90\n",
       "11                      data science meaning     90\n",
       "12                             data engineer     80\n",
       "13                        curso data science     80\n",
       "14                       data science course     70\n",
       "15                   data science internship     60\n",
       "16                              data analyst     60\n",
       "17                              what is data     50\n",
       "18                      what is data science     50}])"
      ]
     },
     "execution_count": 13,
     "metadata": {},
     "output_type": "execute_result"
    }
   ],
   "source": [
    "Trending_topics.build_payload(kw_list=['Cloud Computing','Machine Learning','Data Analysis','Data Science']) \n",
    "related_queries = Trending_topics.related_queries() \n",
    "related_queries.values()"
   ]
  },
  {
   "cell_type": "code",
   "execution_count": 14,
   "id": "4ca4cb43-42b4-4bae-9c1f-5dc143cf4e8e",
   "metadata": {},
   "outputs": [
    {
     "data": {
      "text/html": [
       "<div>\n",
       "<style scoped>\n",
       "    .dataframe tbody tr th:only-of-type {\n",
       "        vertical-align: middle;\n",
       "    }\n",
       "\n",
       "    .dataframe tbody tr th {\n",
       "        vertical-align: top;\n",
       "    }\n",
       "\n",
       "    .dataframe thead th {\n",
       "        text-align: right;\n",
       "    }\n",
       "</style>\n",
       "<table border=\"1\" class=\"dataframe\">\n",
       "  <thead>\n",
       "    <tr style=\"text-align: right;\">\n",
       "      <th></th>\n",
       "      <th>title</th>\n",
       "      <th>type</th>\n",
       "    </tr>\n",
       "  </thead>\n",
       "  <tbody>\n",
       "    <tr>\n",
       "      <th>0</th>\n",
       "      <td>Machine learning</td>\n",
       "      <td>Field of study</td>\n",
       "    </tr>\n",
       "    <tr>\n",
       "      <th>1</th>\n",
       "      <td>International Conference on Machine Learning</td>\n",
       "      <td>Conference</td>\n",
       "    </tr>\n",
       "    <tr>\n",
       "      <th>2</th>\n",
       "      <td>Automated machine learning</td>\n",
       "      <td>Topic</td>\n",
       "    </tr>\n",
       "    <tr>\n",
       "      <th>3</th>\n",
       "      <td>Mathematics for Machine Learning</td>\n",
       "      <td>Book by A. Aldo Faisal, Cheng Soon Ong, and Ma...</td>\n",
       "    </tr>\n",
       "    <tr>\n",
       "      <th>4</th>\n",
       "      <td>Krish Naik</td>\n",
       "      <td>YouTuber</td>\n",
       "    </tr>\n",
       "  </tbody>\n",
       "</table>\n",
       "</div>"
      ],
      "text/plain": [
       "                                          title  \\\n",
       "0                              Machine learning   \n",
       "1  International Conference on Machine Learning   \n",
       "2                    Automated machine learning   \n",
       "3              Mathematics for Machine Learning   \n",
       "4                                    Krish Naik   \n",
       "\n",
       "                                                type  \n",
       "0                                     Field of study  \n",
       "1                                         Conference  \n",
       "2                                              Topic  \n",
       "3  Book by A. Aldo Faisal, Cheng Soon Ong, and Ma...  \n",
       "4                                           YouTuber  "
      ]
     },
     "execution_count": 14,
     "metadata": {},
     "output_type": "execute_result"
    }
   ],
   "source": [
    "keywords = Trending_topics.suggestions( \n",
    "  keyword='Machine Learning') \n",
    "df = pd.DataFrame(keywords) \n",
    "df.drop(columns= 'mid')"
   ]
  },
  {
   "cell_type": "code",
   "execution_count": null,
   "id": "b376f633-a54f-4b51-ae62-d48d16ae9b60",
   "metadata": {},
   "outputs": [],
   "source": []
  }
 ],
 "metadata": {
  "kernelspec": {
   "display_name": "Python 3 (ipykernel)",
   "language": "python",
   "name": "python3"
  },
  "language_info": {
   "codemirror_mode": {
    "name": "ipython",
    "version": 3
   },
   "file_extension": ".py",
   "mimetype": "text/x-python",
   "name": "python",
   "nbconvert_exporter": "python",
   "pygments_lexer": "ipython3",
   "version": "3.10.4"
  }
 },
 "nbformat": 4,
 "nbformat_minor": 5
}
